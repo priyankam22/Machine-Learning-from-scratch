{
 "cells": [
  {
   "cell_type": "markdown",
   "metadata": {},
   "source": [
    "### Import libraries"
   ]
  },
  {
   "cell_type": "code",
   "execution_count": 414,
   "metadata": {},
   "outputs": [],
   "source": [
    "import numpy as np\n",
    "import scipy\n",
    "import time\n",
    "\n",
    "from sklearn import datasets, metrics\n",
    "from sklearn.model_selection import train_test_split, KFold\n",
    "from sklearn.preprocessing import StandardScaler\n",
    "from sklearn.svm import SVC\n",
    "\n",
    "from matplotlib import pyplot as plt\n",
    "%matplotlib inline"
   ]
  },
  {
   "cell_type": "markdown",
   "metadata": {},
   "source": [
    "### Load the Digits datatset"
   ]
  },
  {
   "cell_type": "code",
   "execution_count": 501,
   "metadata": {},
   "outputs": [],
   "source": [
    "def load_digits_data():\n",
    "    '''\n",
    "    Loads the in-built digits dataset of sklearn, performs train-test split and standardizes the data.\n",
    "    '''\n",
    "    digits = datasets.load_digits()\n",
    "\n",
    "    X = digits.data\n",
    "    y = digits.target\n",
    "\n",
    "    return split_standardize(X, y, test_size=0.25, random_state=0)"
   ]
  },
  {
   "cell_type": "code",
   "execution_count": 502,
   "metadata": {},
   "outputs": [],
   "source": [
    "def split_standardize(X, y, test_size=0.25, random_state=0):\n",
    "    # Train test split\n",
    "    X_train, X_test, y_train, y_test = train_test_split(X, y, test_size=test_size, random_state = random_state)\n",
    "    print('X_train: {}, y_train: {}, X_test: {}, y_test: {}'.format(X_train.shape, y_train.shape, X_test.shape, y_test.shape))\n",
    "\n",
    "    # Standardize the data\n",
    "    scaler = StandardScaler().fit(X_train)\n",
    "    X_test = scaler.transform(X_test)\n",
    "    X_train = scaler.transform(X_train)\n",
    "    \n",
    "    return X_train, y_train, X_test, y_test"
   ]
  },
  {
   "cell_type": "markdown",
   "metadata": {},
   "source": [
    "### SVM Algorithm using Fast Gradient Descent"
   ]
  },
  {
   "cell_type": "markdown",
   "metadata": {},
   "source": [
    "#### Compute K-Gram Matrix"
   ]
  },
  {
   "cell_type": "code",
   "execution_count": 416,
   "metadata": {},
   "outputs": [],
   "source": [
    "def computegram(X, Z=None, kernel='poly', params={}):\n",
    "    '''\n",
    "    Computes the gram matrix for two input matrices using the input kernel function.\n",
    "    \n",
    "    Inputs: \n",
    "    - X      : Matrix with observations as rows\n",
    "    - Z      : Another matrix with observations as rows\n",
    "    - kernel : type of kernel - 'linear', 'poly' or 'rbf'\n",
    "    - params : dictionary of parameters for the correponding kernel. \n",
    "               kernel       params keys     descr\n",
    "               ---------   ------------    -------\n",
    "               linear       None           No parameters expected\n",
    "               rbf          sigma          Kernel Coefficient\n",
    "               poly         order          Order of the polynomial\n",
    "               poly         coef0          independent cofficient in kernel function\n",
    "    \n",
    "    Output: \n",
    "    - gram   : Gram matrix    \n",
    "    \n",
    "    '''\n",
    "    if Z is None:\n",
    "        Z = X\n",
    "    # Polynomial kernel \n",
    "    if kernel == 'poly':\n",
    "        gram = poly(X, Z, params)\n",
    "    # Radial Basis Function Kernel\n",
    "    elif kernel == 'rbf':\n",
    "        gram = rbf(X, Z, params)\n",
    "    # Linear Kernel\n",
    "    else:\n",
    "        gram = linear(X, Z, params)        \n",
    "\n",
    "    return gram"
   ]
  },
  {
   "cell_type": "code",
   "execution_count": 417,
   "metadata": {},
   "outputs": [],
   "source": [
    "def linear(X, Z, params):\n",
    "    '''\n",
    "    Computes the gram matrix for two input matrices for a linear kernel.\n",
    "    \n",
    "    Inputs: \n",
    "    - X      : Matrix with observations as rows\n",
    "    - Z      : Another matrix with observations as rows\n",
    "    - params : None expected\n",
    "    \n",
    "    Output: \n",
    "    - gram   : Gram matrix    \n",
    "    \n",
    "    '''    \n",
    "    \n",
    "    return np.dot(X, Z.T)"
   ]
  },
  {
   "cell_type": "code",
   "execution_count": 418,
   "metadata": {},
   "outputs": [],
   "source": [
    "def poly(X, Z, params):\n",
    "    '''\n",
    "    Computes the gram matrix for two input matrices for a polynomial kernel.\n",
    "    \n",
    "    Inputs: \n",
    "    - X      : Matrix with observations as rows\n",
    "    - Z      : Another matrix with observations as rows\n",
    "    - params : dictionary of parameters for the correponding kernel. \n",
    "               params keys     descr\n",
    "               ---------      ------------    \n",
    "               sigma          Kernel Coefficient\n",
    "    \n",
    "    Output: \n",
    "    - gram   : Gram matrix    \n",
    "    \n",
    "    '''    \n",
    "    order = params.get('order', 3)\n",
    "    coef0 = params.get('coef0', 1)\n",
    "    return (np.dot(X, Z.T) + coef0)**order"
   ]
  },
  {
   "cell_type": "code",
   "execution_count": 419,
   "metadata": {},
   "outputs": [],
   "source": [
    "def rbf(X, Z, params):\n",
    "    '''\n",
    "    Computes the gram matrix for two input matrices for a polynomial kernel.\n",
    "    \n",
    "    Inputs: \n",
    "    - X      : Matrix with observations as rows\n",
    "    - Z      : Another matrix with observations as rows\n",
    "    - params : dictionary of parameters for the correponding kernel. \n",
    "               params keys     descr\n",
    "               ---------      ------------    \n",
    "               order          Order of the polynomial\n",
    "               coef0          independent cofficient in kernel function\n",
    "    \n",
    "    Output: \n",
    "    - gram   : Gram matrix    \n",
    "    \n",
    "    '''   \n",
    "    # Set the default sigma value to 0.5\n",
    "    sigma = params.get('sigma', 0.5)\n",
    "    \n",
    "    # Z is a matrix with 2 dimensions\n",
    "    if Z.ndim == 2:\n",
    "        gram = np.exp( -1/(2*sigma**2) * np.linalg.norm(np.subtract(X[:,:,np.newaxis], Z[:,:,np.newaxis].T), axis=1)**2)\n",
    "    # Z is a matrix with 1 dimension\n",
    "    else: \n",
    "        gram = np.exp( -1/(2*sigma**2) * np.linalg.norm(np.subtract(X, Z.T), axis=1)**2)\n",
    "                \n",
    "    return gram"
   ]
  },
  {
   "cell_type": "markdown",
   "metadata": {},
   "source": [
    "#### Test K gram matrix"
   ]
  },
  {
   "cell_type": "code",
   "execution_count": 420,
   "metadata": {},
   "outputs": [
    {
     "name": "stdout",
     "output_type": "stream",
     "text": [
      "Test passed\n"
     ]
    }
   ],
   "source": [
    "def test_gram():  \n",
    "    np.random.seed(0)\n",
    "    X = np.random.randn(6, 5)\n",
    "    Y = np.random.randn(7, 5)\n",
    "    gram1 = computegram(X, Y, 'poly', {'order':3} )\n",
    "    gram2 = metrics.pairwise.polynomial_kernel(X, Y, degree=3, gamma=1)\n",
    "    assert np.allclose(gram1, gram2), 'Computed matrix' + str(gram1) + 'does not match that of scikit-learn:' + str(gram2)\n",
    "    print('Test passed')\n",
    "    \n",
    "test_gram()"
   ]
  },
  {
   "cell_type": "markdown",
   "metadata": {},
   "source": [
    "#### Objective function for huberized hinge loss with L2 regularization"
   ]
  },
  {
   "cell_type": "code",
   "execution_count": 421,
   "metadata": {},
   "outputs": [],
   "source": [
    "def obj(beta, K, y, lamb, h=0.5):\n",
    "    '''\n",
    "    Computes the value of the L2 regularized huberized hinge loss objective function of SVM.\n",
    "\n",
    "    Inputs:\n",
    "    - beta : Vector of coefficients to be optimized\n",
    "    - K    : Gram matrix consisting of evaluations of the kernel k(x_i, x_j) for i,j=1,...,n\n",
    "    - y    : Labels y_1,...,y_n corresponding to x_1,...,x_n\n",
    "    - lamb : Penalty parameter lambda\n",
    "    - h    : huberized hinge loss parameter\n",
    "    \n",
    "    Output:\n",
    "    - grad : Value of the objective function at beta\n",
    "    '''\n",
    "    \n",
    "    K_beta = np.dot(K, beta) \n",
    "    yt  = y*K_beta\n",
    "    \n",
    "    # Compute the huberized hinge loss   \n",
    "    lhh = ((1+h-yt)**2)/(4*h)*(np.abs(1-yt) <= h) + (1-yt)*(yt<(1-h))\n",
    "    \n",
    "    # Gradient of huberized hinge loss function and L2 penalty term   \n",
    "    obj = np.mean(lhh) + lamb*beta.dot(K_beta)\n",
    "    \n",
    "    return obj"
   ]
  },
  {
   "cell_type": "markdown",
   "metadata": {},
   "source": [
    "#### Compute gradient of the objective function"
   ]
  },
  {
   "cell_type": "code",
   "execution_count": 422,
   "metadata": {},
   "outputs": [],
   "source": [
    "def computegrad(beta, K, y, lamb, h=0.5):\n",
    "    '''\n",
    "    Computes the gradient of the L2 regularized huberized hinge loss objective function of SVM.\n",
    "    \n",
    "    Inputs:\n",
    "    - beta : Vector of coefficients to be optimized\n",
    "    - K    : Gram matrix of dimensions consisting of evaluations of the kernel k(x_i, x_j) for i,j=1,...,n\n",
    "    - y    : Labels y_1,...,y_n corresponding to x_1,...,x_n\n",
    "    - lamb : Regularization parameter lambda\n",
    "    - h    : huberized hinge loss parameter    \n",
    "   \n",
    "    Output:\n",
    "    - grad : Value of the gradient at beta    \n",
    "    \n",
    "    '''\n",
    "    \n",
    "    K_beta = np.dot(K,beta) \n",
    "    yt = y*K_beta\n",
    "    \n",
    "    # Compute the huberized hinge loss\n",
    "    lhh = -(1+h-yt)/(2*h)*y*(np.abs(1-yt) <= h) -y*(yt<(1-h))\n",
    "    \n",
    "    # Gradient of huberized hinge loss function and L2 penalty term\n",
    "    grad = np.mean(lhh[:,np.newaxis]*K, axis=0) + 2*lamb*K_beta\n",
    "\n",
    "    return grad"
   ]
  },
  {
   "cell_type": "markdown",
   "metadata": {},
   "source": [
    "#### Test gradient function"
   ]
  },
  {
   "cell_type": "code",
   "execution_count": 423,
   "metadata": {},
   "outputs": [
    {
     "name": "stdout",
     "output_type": "stream",
     "text": [
      "Estimated and calculated values of beta[ 0 ]: -393.761700252071 -393.761686189752\n",
      "Estimated and calculated values of beta[ 1 ]: -149.36243314878084 -149.36240193099178\n",
      "Estimated and calculated values of beta[ 2 ]: -102.50232844555285 -102.50229287348967\n",
      "Estimated and calculated values of beta[ 3 ]: -7520.762026615557 -7520.760531435922\n",
      "Estimated and calculated values of beta[ 4 ]: -1588.9161004452035 -1588.915874397894\n",
      "Test passed\n"
     ]
    }
   ],
   "source": [
    "import sklearn.metrics\n",
    "def test_grad(eps=1e-6):\n",
    "    n = 5\n",
    "    for i in range(n):\n",
    "        np.random.seed(0)\n",
    "        beta = -np.random.normal(size=n)\n",
    "        x = np.random.randn(n, n)\n",
    "        y = np.random.choice([0, 1], size=5)\n",
    "        K = computegram(x)\n",
    "        lamb = 0.5\n",
    "        f1 = obj(beta, K, y, lamb)\n",
    "        beta[i] = beta[i] + eps\n",
    "        f2 = obj(beta, K, y, lamb)\n",
    "        print('Estimated and calculated values of beta[', i, ']:', (f2-f1)/eps, computegrad(beta, K, y, lamb)[i])\n",
    "        assert np.isclose((f2-f1)/eps, computegrad(beta, K, y, lamb)[i]), 'Estimated gradient ' + str((f2-f1)/eps) + ' is not approximately equal to the computed gradient ' + str(computegrad(beta, K, y, lamb)[i])\n",
    "    print('Test passed')\n",
    "  \n",
    "test_grad()"
   ]
  },
  {
   "cell_type": "markdown",
   "metadata": {},
   "source": [
    "#### Backtracking line search for step size"
   ]
  },
  {
   "cell_type": "code",
   "execution_count": 424,
   "metadata": {},
   "outputs": [],
   "source": [
    "def backtracking_eta(beta, K, y, lamb, eta_init=1, a=0.5, b=0.1, maxiter=1000):\n",
    "    \"\"\"\n",
    "    Performs backtracking line search to find the optimal step size for a given beta\n",
    "    \n",
    "    Inputs:\n",
    "      - beta     : vector of coefficients with current values\n",
    "      - K        : Gram matrix\n",
    "      - y        : Vector of output labels\n",
    "      - lamb     : l2 regularization parameter\n",
    "      - eta_init : Starting (maximum) step size            \n",
    "      - a        : Constant used to define sufficient decrease condition\n",
    "      - b        : Fraction by which we decrease eta if the previous eta doesn't work\n",
    "      - maxiter  : Maximum number of iterations to run the algorithm\n",
    "      \n",
    "    Output:\n",
    "      - eta      : Optimal step size to use\n",
    "          \n",
    "    \"\"\"    \n",
    "    # Compute gradient and its norm\n",
    "    grad_beta = computegrad(beta, K, y, lamb)\n",
    "    norm_grad_beta = np.linalg.norm(grad_beta)\n",
    "    \n",
    "    # Compute current objective value\n",
    "    obj_curr = obj(beta, K, y, lamb)\n",
    "\n",
    "    # Initialize variables\n",
    "    eta = eta_init \n",
    "    found_eta = 0\n",
    "    iter = 0\n",
    "        \n",
    "    # Iterate till optimal step size is found or maximum iterations are reached.\n",
    "    while found_eta == 0 and iter < maxiter:\n",
    "        \n",
    "        # Compute new objective\n",
    "        obj_next = obj(beta - eta*grad_beta, K, y, lamb)\n",
    "        \n",
    "        if obj_next < obj_curr - a*eta*norm_grad_beta**2:\n",
    "            # Found the optimum step size\n",
    "            found_eta = 1\n",
    "        elif iter == maxiter-1:\n",
    "            # Max number of iterations reached\n",
    "            eta = eta_init\n",
    "            break\n",
    "        else:\n",
    "            # Reduce eta by a factor of b\n",
    "            eta *= b\n",
    "            iter += 1\n",
    "            \n",
    "    return eta"
   ]
  },
  {
   "cell_type": "markdown",
   "metadata": {},
   "source": [
    "#### Fast gradient algorithm"
   ]
  },
  {
   "cell_type": "code",
   "execution_count": 425,
   "metadata": {},
   "outputs": [],
   "source": [
    "def fastgradalgo(beta_init, theta_init, K, y, lamb=0, eta_init=1, max_iter=1000, eps=1e-5):\n",
    "    '''\n",
    "    Fast gradient descent algorithm for finding the optimal beta coefficients.\n",
    "    \n",
    "    Inputs:\n",
    "      - beta_init  : Starting values of beta coefficients\n",
    "      - theta_init : Starting values of theta coefficients\n",
    "      - K          : Gram matrix\n",
    "      - y          : Vector of output labels\n",
    "      - lamb       : l2 regularization parameter    \n",
    "      - max_iter   : Maximum number of iterations to run the algorithm      \n",
    "      - eps        : Value for convergence criterion for the norm of the gradient\n",
    "    \n",
    "    Output:\n",
    "      - beta_vals  : Matrix of estimated beta's at each iteration,\n",
    "                     with the most recent values in the last row.\n",
    "    \n",
    "    '''       \n",
    "    # Initialize variables\n",
    "    beta  = beta_init\n",
    "    theta = theta_init\n",
    "    eta   = eta_init\n",
    "    beta_vals = beta\n",
    "    iter = 0\n",
    "    \n",
    "    # Compute gradients\n",
    "    grad_theta = computegrad(theta, K, y, lamb)\n",
    "    grad_beta = computegrad(beta, K, y, lamb)\n",
    "    \n",
    "    # Update beta till gradient is lesser than epsilon or maximum iterations are reached   \n",
    "    while iter < max_iter and np.linalg.norm(grad_beta) > eps:\n",
    "        \n",
    "        # Get optimal step size\n",
    "        eta = backtracking_eta(theta, K, y, lamb, eta_init=eta)\n",
    "        \n",
    "        # Compute new beta and theta\n",
    "        beta_new = theta - eta*grad_theta\n",
    "        theta = beta_new + iter/(iter + 3) * (beta_new - beta)\n",
    "        beta = beta_new\n",
    "        \n",
    "        # Append the new beta values to the output beta matrix\n",
    "        beta_vals = np.vstack((beta_vals, beta_new))\n",
    "        \n",
    "        # Recompute the gradient using new beta and theta\n",
    "        grad_beta  = computegrad(beta, K, y, lamb)\n",
    "        grad_theta = computegrad(theta, K, y, lamb)\n",
    "        \n",
    "        iter += 1\n",
    "                      \n",
    "    return beta_vals"
   ]
  },
  {
   "cell_type": "markdown",
   "metadata": {},
   "source": [
    "#### Train SVM "
   ]
  },
  {
   "cell_type": "code",
   "execution_count": 426,
   "metadata": {},
   "outputs": [],
   "source": [
    "def train_svm(X, y, lamb=0, kernel='poly', params={}, max_iter=1000, eps=1e-3, normalize=True):\n",
    "    '''\n",
    "    Trains the kernel based SVM model on the training data.\n",
    "    \n",
    "    Inputs:\n",
    "      - X          : Input feature matrix\n",
    "      - y          : Vector of output labels    \n",
    "      - lamb       : l2 regularization parameter    \n",
    "      - kernel     : type of kernel function - 'linear', 'poly' or 'rbf'\n",
    "      - params     : dictionary of parameters for the correponding kernel. \n",
    "                     kernel       params keys     descr\n",
    "                     ---------   ------------    -------\n",
    "                     linear       None           No parameters expected\n",
    "                     rbf          sigma          Kernel Coefficient\n",
    "                     poly         order          Order of the polynomial\n",
    "                     poly         coef0          independent cofficient in kernel function   \n",
    "      - max_iter   : Maximum number of iterations to run the algorithm      \n",
    "      - eps        : Value for convergence criterion for the norm of the gradient\n",
    "      - normalize  : Normalize the K gram matrix after evaluation\n",
    "    \n",
    "    Output:\n",
    "      - beta_vals  : Matrix of estimated beta's at each iteration,\n",
    "                     with the most recent values in the last row.\n",
    "    '''\n",
    "    # Initialize the vectors\n",
    "    n = len(y)   \n",
    "    beta_init = np.zeros(n)\n",
    "    theta_init = np.zeros(n)\n",
    "\n",
    "    # Compute the K-gram matrix\n",
    "    K = computegram(X, X, kernel=kernel, params=params)\n",
    "    \n",
    "    # Normalize the gram matrix\n",
    "    if normalize:\n",
    "        K_diag = np.diag(K).copy()\n",
    "        K = K/np.sqrt(np.outer(K_diag, K_diag))\n",
    "    \n",
    "    # Set eta_init based on an upper bound on the Lipschitz constant\n",
    "    try:\n",
    "        eta_init = 1 / scipy.linalg.eigh(2 / n * np.dot(K, K) + 2 * lamb * K, eigvals=(n - 1, n - 1),eigvals_only=True)[0]\n",
    "    except np.linalg.LinAlgError:\n",
    "        eta_init = 1\n",
    "    \n",
    "    # Run the fast gradient algorithm to optimize the beta coefficents\n",
    "    beta_vals = fastgradalgo(beta_init, theta_init, K, y, lamb, eta_init, max_iter, eps)\n",
    "    \n",
    "    return beta_vals"
   ]
  },
  {
   "cell_type": "markdown",
   "metadata": {},
   "source": [
    "#### Predict labels"
   ]
  },
  {
   "cell_type": "code",
   "execution_count": 429,
   "metadata": {},
   "outputs": [],
   "source": [
    "def predict(X_trn, X_tst, beta, output='class', kernel='poly', params={}):\n",
    "    \"\"\"\n",
    "    Predict the output class or score for given X and beta\n",
    "    \n",
    "    Input:\n",
    "      - X_trn   : Input features of training data\n",
    "      - X_tst   : Input features of test data\n",
    "      - beta    : Regression coefficients to be used\n",
    "      - output  : 'class' for class labels\n",
    "                  'score' for score of prediction\n",
    "    Output:\n",
    "      - y_pred  : array of predicted class labels or scores\n",
    "      \n",
    "    \"\"\"    \n",
    "    # Initialize variables\n",
    "    n = len(X_tst)\n",
    "    y_vals = np.zeros(n)\n",
    "    \n",
    "    # Get the score of each test point\n",
    "    for i in range(n):\n",
    "        y_vals[i] = np.dot(computegram(X_trn, X_tst[i], kernel=kernel, params=params).T, beta)\n",
    "        \n",
    "    # Output the class\n",
    "    if output == 'class':\n",
    "        return np.sign(y_vals) \n",
    "    # Output the score\n",
    "    else:\n",
    "        return y_vals"
   ]
  },
  {
   "cell_type": "markdown",
   "metadata": {},
   "source": [
    "#### Compute misclassification errors"
   ]
  },
  {
   "cell_type": "code",
   "execution_count": 440,
   "metadata": {},
   "outputs": [],
   "source": [
    "def misclassification_error(X_trn, X_tst, y_tst, beta, kernel='poly', params={}):\n",
    "    ''' \n",
    "    Calculates the misclassification error for binary classes.\n",
    "    \n",
    "    Inputs:\n",
    "      - X_trn   : Input feature matrix for training\n",
    "      - X_tst   : Input feature matrix for testing\n",
    "      - y_tst   : Vector of output labels for testing. Assumes class labels start from 0,1,2...  \n",
    "      - beta    : Estimated coefficients to evaluate\n",
    "      - kernel  : type of kernel function - 'linear', 'poly' or 'rbf'\n",
    "      - params  : dictionary of parameters for the correponding kernel. \n",
    "                     kernel       params keys     descr\n",
    "                     ---------   ------------    -------\n",
    "                     linear       None           No parameters expected\n",
    "                     rbf          sigma          Kernel Coefficient\n",
    "                     poly         order          Order of the polynomial\n",
    "                     poly         coef0          independent cofficient in kernel function   \n",
    "   \n",
    "    Output:\n",
    "      - error   : Misclassification error on test set   \n",
    "    '''\n",
    "    # Make the predictions\n",
    "    y_preds = predict(X_trn, X_tst, beta, output='class', kernel=kernel, params=params)\n",
    "    \n",
    "    # Compute the misclassification error\n",
    "    error = np.mean(y_tst != y_preds) \n",
    "    return error"
   ]
  },
  {
   "cell_type": "markdown",
   "metadata": {},
   "source": [
    "### Test on binary classes - 0 and 1"
   ]
  },
  {
   "cell_type": "code",
   "execution_count": 430,
   "metadata": {},
   "outputs": [
    {
     "name": "stdout",
     "output_type": "stream",
     "text": [
      "(360, 64) (360,)\n",
      "(270, 64) (270,) (90, 64) (90,)\n",
      "[ 1. -1.  1.  1.  1.  1. -1. -1.  1.  1.  1. -1. -1.  1. -1. -1.  1.  1.\n",
      " -1.  1. -1.  1. -1. -1. -1. -1.  1.  1.  1.  1.  1.  1.  1. -1.  1. -1.\n",
      " -1.  1.  1.  1. -1.  1.  1. -1.  1.  1. -1.  1. -1.  1. -1.  1.  1.  1.\n",
      "  1.  1.  1.  1. -1. -1.  1. -1. -1.  1. -1.  1. -1.  1. -1. -1.  1. -1.\n",
      " -1. -1.  1. -1. -1.  1.  1.  1.  1. -1.  1.  1.  1. -1. -1.  1.  1.  1.]\n",
      "Misclassification error on training set with lambda=1: 0.0\n",
      "Misclassification error on test set with lambda=1: 0.022222222222222223\n"
     ]
    }
   ],
   "source": [
    "digits = datasets.load_digits()\n",
    "\n",
    "X = digits.data\n",
    "y = digits.target\n",
    "\n",
    "# Extract the first two categories \n",
    "X = X[(y == 0) | (y == 1) ]\n",
    "y = y[(y == 0) | (y == 1) ]\n",
    "y = np.array([ 1 if y==0 else -1 for y in y])\n",
    "print(X.shape, y.shape)\n",
    "\n",
    "# Train test split\n",
    "X_train, X_test, y_train, y_test = train_test_split(X, y, test_size=0.25, random_state = 0)\n",
    "print(X_train.shape, y_train.shape, X_test.shape, y_test.shape)\n",
    "\n",
    "# Standardize the data\n",
    "scaler = StandardScaler().fit(X_train)\n",
    "X_test = scaler.transform(X_test)\n",
    "X_train = scaler.transform(X_train)\n",
    "\n",
    "lamb=1\n",
    "kernel='poly'\n",
    "params={'order':7}\n",
    "\n",
    "beta_vals = train_svm(X_train, y_train, lamb=lamb, kernel=kernel, params=params)\n",
    "print(predict(X_train, X_test, beta_vals[-1], output='class', kernel=kernel, params=params))\n",
    "\n",
    "train_err = misclassification_error(X_train, X_train, y_train, beta_vals[-1], kernel=kernel, params=params)\n",
    "test_err = misclassification_error(X_train, X_test, y_test, beta_vals[-1], kernel=kernel, params=params)\n",
    "\n",
    "print(\"Misclassification error on training set with lambda={}: {}\".format(lamb, train_err))\n",
    "print(\"Misclassification error on test set with lambda={}: {}\".format(lamb, test_err))"
   ]
  },
  {
   "cell_type": "markdown",
   "metadata": {},
   "source": [
    "### Test on binary classes - 2 and 3"
   ]
  },
  {
   "cell_type": "code",
   "execution_count": 431,
   "metadata": {},
   "outputs": [
    {
     "name": "stdout",
     "output_type": "stream",
     "text": [
      "(360, 64) (360,)\n",
      "(270, 64) (270,) (90, 64) (90,)\n",
      "[-1. -1. -1.  1.  1. -1.  1.  1. -1.  1.  1. -1. -1.  1. -1.  1. -1. -1.\n",
      " -1. -1.  1.  1. -1.  1.  1. -1.  1. -1.  1. -1. -1. -1.  1. -1.  1. -1.\n",
      " -1. -1. -1.  1. -1.  1. -1.  1. -1.  1.  1.  1. -1. -1.  1. -1.  1.  1.\n",
      "  1. -1.  1. -1. -1.  1.  1.  1. -1.  1.  1. -1. -1.  1.  1.  1. -1.  1.\n",
      "  1.  1.  1.  1. -1.  1. -1.  1. -1. -1.  1. -1.  1. -1. -1. -1.  1. -1.]\n",
      "Misclassification error on training set with lambda=1: 0.003703703703703704\n",
      "Misclassification error on test set with lambda=1: 0.06666666666666667\n"
     ]
    }
   ],
   "source": [
    "digits = datasets.load_digits()\n",
    "\n",
    "X = digits.data\n",
    "y = digits.target\n",
    "\n",
    "# Extract the first two categories \n",
    "X = X[(y == 2) | (y == 3) ]\n",
    "y = y[(y == 2) | (y == 3) ]\n",
    "y = np.array([ 1 if y==2 else -1 for y in y])\n",
    "print(X.shape, y.shape)\n",
    "\n",
    "# Train test split\n",
    "X_train, X_test, y_train, y_test = train_test_split(X, y, test_size=0.25, random_state = 0)\n",
    "print(X_train.shape, y_train.shape, X_test.shape, y_test.shape)\n",
    "\n",
    "# Standardize the data\n",
    "scaler = StandardScaler().fit(X_train)\n",
    "X_test = scaler.transform(X_test)\n",
    "X_train = scaler.transform(X_train)\n",
    "\n",
    "lamb=1\n",
    "kernel='poly'\n",
    "params={'order':7}\n",
    "\n",
    "beta_vals = train_svm(X_train, y_train, lamb=lamb, kernel=kernel, params=params)\n",
    "print(predict(X_train, X_test, beta_vals[-1], output='class', kernel=kernel, params=params))\n",
    "\n",
    "train_err = misclassification_error(X_train, X_train, y_train, beta_vals[-1], kernel=kernel, params=params)\n",
    "test_err = misclassification_error(X_train, X_test, y_test, beta_vals[-1], kernel=kernel, params=params)\n",
    "\n",
    "print(\"Misclassification error on training set with lambda={}: {}\".format(lamb, train_err))\n",
    "print(\"Misclassification error on test set with lambda={}: {}\".format(lamb, test_err))"
   ]
  },
  {
   "cell_type": "markdown",
   "metadata": {},
   "source": [
    "#### Predict for multiclass using OneVsRest classifier outputs"
   ]
  },
  {
   "cell_type": "code",
   "execution_count": 433,
   "metadata": {},
   "outputs": [],
   "source": [
    "def predict_class(X_trn, X_tst, beta_vals, kernel='poly', params={}):\n",
    "    ''' \n",
    "    Returns the predicted class using the majority vote across all one-vs-rest classifiers.\n",
    "    \n",
    "    Inputs:\n",
    "      - X_trn       : Input feature matrix for training\n",
    "      - X_tst       : Input feature matrix for testing\n",
    "      - beta_vals   : Matrix of estimated coefficients for all one-vs-rest classifiers\n",
    "      - kernel      : type of kernel function - 'linear', 'poly' or 'rbf'\n",
    "      - params      : dictionary of parameters for the correponding kernel. \n",
    "                       kernel       params keys     descr\n",
    "                       ---------   ------------    -------\n",
    "                       linear       None           No parameters expected\n",
    "                       rbf          sigma          Kernel Coefficient\n",
    "                       poly         order          Order of the polynomial\n",
    "                       poly         coef0          independent cofficient in kernel function   \n",
    "   \n",
    "    Output:\n",
    "      - final_preds : Misclassification error on test set      \n",
    "    '''\n",
    "    # Initialize variables\n",
    "    all_preds = []\n",
    "    final_preds = []    \n",
    "    n = X_tst.shape[0]\n",
    "\n",
    "    # Get predictions for each classifier\n",
    "    for beta in beta_vals:\n",
    "        y_preds = predict(X_trn, X_tst, beta, output='score', kernel=kernel, params=params)\n",
    "        \n",
    "        # Store the magnitude of the score if the specific class has a positive vote else set to zero\n",
    "        all_preds.append([score if np.sign(score) == 1 else 0 for score in y_preds])\n",
    "\n",
    "    all_pred_arr = np.array(all_preds)\n",
    "   \n",
    "    # Get the majority vote from the predictions using the magnitude of score\n",
    "    final_preds = np.argmax(all_pred_arr, axis=0)\n",
    "\n",
    "    return final_preds"
   ]
  },
  {
   "cell_type": "markdown",
   "metadata": {},
   "source": [
    "### Cross Validation"
   ]
  },
  {
   "cell_type": "markdown",
   "metadata": {},
   "source": [
    "#### K Fold cross validation"
   ]
  },
  {
   "cell_type": "code",
   "execution_count": 434,
   "metadata": {},
   "outputs": [],
   "source": [
    "def run_kfold(X, y, lamb=0, folds=3, kernel='poly', params={}, max_iter=1000, eps=1e-5, verbose=False):\n",
    "    '''\n",
    "    Runs kfold validation for specified lambda\n",
    "  \n",
    "    Inputs:\n",
    "      - X         : Input feature matrix\n",
    "      - y         : Vector of output labels. Assumes class labels start from 0,1,2...          \n",
    "      - lamb      : l2 regularization parameter\n",
    "      - folds     : Folds for K Fold cross validation\n",
    "      - kernel    : type of kernel function - 'linear', 'poly' or 'rbf'\n",
    "      - params    : dictionary of parameters for the correponding kernel. \n",
    "                         kernel       params keys     descr\n",
    "                         ---------   ------------    -------\n",
    "                         linear       None           No parameters expected\n",
    "                         rbf          sigma          Kernel Coefficient\n",
    "                         poly         order          Order of the polynomial\n",
    "                         poly         coef0          independent cofficient in kernel function   \n",
    "      - max_iter  : Maximum number of iterations to run the algorithm      \n",
    "      - eps       : Value for convergence criterion for the norm of the gradient\n",
    "      - verbose   : Print debugging information if true\n",
    "    \n",
    "    Output:\n",
    "      - acc       : List of accuracies for all K Folds\n",
    "    '''\n",
    "    # Initialize list for storing accuracies for all K Folds\n",
    "    acc = []\n",
    "    \n",
    "    # Run KFold to get K folds of feature matrix\n",
    "    kf = KFold(n_splits=folds, shuffle=True, random_state=0)\n",
    "    kf.get_n_splits(X)\n",
    "\n",
    "    # Fit SVM on every fold to get the accuracy\n",
    "    for train_index, test_index in kf.split(X):\n",
    "        \n",
    "        # Extract the fold of data\n",
    "        X_trn, X_val = X[train_index], X[test_index]\n",
    "        y_trn, y_val = y[train_index], y[test_index]\n",
    "\n",
    "        # Fit the SVM model\n",
    "        beta_vals = train_svm(X_trn, y_trn, lamb=lamb, kernel=kernel, params=params, max_iter=max_iter, eps=eps)\n",
    "\n",
    "        # Get optimal beta\n",
    "        beta_opt = beta_vals[-1]\n",
    "\n",
    "        # Compute the misclassification error and accuracy\n",
    "        error = misclassification_error(X_trn, X_val, y_val, beta=beta_opt, kernel=kernel, params=params)\n",
    "        acc.append(1-error)\n",
    "\n",
    "    return acc"
   ]
  },
  {
   "cell_type": "markdown",
   "metadata": {},
   "source": [
    "#### Train SVM using cross validation for binary classes"
   ]
  },
  {
   "cell_type": "code",
   "execution_count": 443,
   "metadata": {},
   "outputs": [],
   "source": [
    "def train_svm_cv(X, y, lambs=[0], folds=3, kernel='poly', params={}, max_iter=1000, eps=1e-5, verbose=False):\n",
    "    '''\n",
    "    Perform k-fold cross validation using SVM fast gradient algorithm with huberized hinge loss and l2 regularization\n",
    "    \n",
    "    Inputs:\n",
    "      - X         : Input feature matrix\n",
    "      - y         : Vector of output labels. Assumes class labels start from 0,1,2...          \n",
    "      - lambs     : a list of l2 regularization parameters to cross-validate. \n",
    "                    Only first element is used if cross_validate=False   \n",
    "      - folds     : Folds for K Fold cross validation\n",
    "      - kernel    : type of kernel function - 'linear', 'poly' or 'rbf'\n",
    "      - params    : dictionary of parameters for the correponding kernel. \n",
    "                         kernel       params keys     descr\n",
    "                         ---------   ------------    -------\n",
    "                         linear       None           No parameters expected\n",
    "                         rbf          sigma          Kernel Coefficient\n",
    "                         poly         order          Order of the polynomial\n",
    "                         poly         coef0          independent cofficient in kernel function   \n",
    "      - max_iter  : Maximum number of iterations to run the algorithm      \n",
    "      - eps       : Value for convergence criterion for the norm of the gradient\n",
    "      - verbose   : Print debugging information if true\n",
    "    \n",
    "    Output:\n",
    "      - beta_lamb : Optimal lambda to be used\n",
    "      \n",
    "    '''    \n",
    "    # Initialize variables\n",
    "    start_time = time.time()\n",
    "    max_acc = 0\n",
    "    best_lamb = 0\n",
    "    \n",
    "    # Loop over all lambda values and choose the one with best accuracy\n",
    "    for l in lambs:\n",
    "        \n",
    "        if verbose:\n",
    "            print(\"Checking lambda: \", l)\n",
    "        \n",
    "        # Run K-Fold cross validation to get the accuracies for all K folds\n",
    "        accuracy = run_kfold(X, y, lamb=l, folds=folds, kernel=kernel, params=params, max_iter=max_iter, eps=eps, verbose=verbose)\n",
    "        \n",
    "        # Compute the mean accuracy\n",
    "        mean_acc = np.mean(accuracy)\n",
    "        if verbose:\n",
    "            print(\"Accuracy for lambda {} : {}\".format(l, mean_acc))\n",
    "            \n",
    "        # Update the best lambda and accuracy if a better accuracy was achieved\n",
    "        if  mean_acc > max_acc:\n",
    "            max_acc = mean_acc\n",
    "            best_lamb = l\n",
    "\n",
    "    if verbose:\n",
    "        time_elapsed = time.time() - start_time\n",
    "        print(\"Total time elapsed (mins):\", time_elapsed/60)\n",
    "    \n",
    "    return best_lamb"
   ]
  },
  {
   "cell_type": "markdown",
   "metadata": {},
   "source": [
    "#### Train multiclass SVM"
   ]
  },
  {
   "cell_type": "code",
   "execution_count": 436,
   "metadata": {},
   "outputs": [],
   "source": [
    "def multiclass_svm(X_trn, y_trn, X_tst, y_tst, lambs=[0], folds=3, kernel='poly', params={}, \n",
    "                   max_iter=1000, eps=1e-5, cross_validate=True, verbose=False):\n",
    "    ''' \n",
    "    Trains a kernel SVM classifier with L2 regularized huberized hinge loss using cross validation.\n",
    "    \n",
    "    Inputs:\n",
    "      - X_trn          : Input feature matrix for training\n",
    "      - y_trn          : Vector of output labels for training. Assumes class labels start from 0,1,2...          \n",
    "      - X_tst          : Input feature matrix for testing\n",
    "      - y_tst          : Vector of output labels for testing. Assumes class labels start from 0,1,2...    \n",
    "      - lambs          : a list of l2 regularization parameters to cross-validate. \n",
    "                         Only first element is used if cross_validate=False   \n",
    "      - folds          : Folds for K Fold cross validation\n",
    "      - kernel         : type of kernel function - 'linear', 'poly' or 'rbf'\n",
    "      - params         : dictionary of parameters for the correponding kernel. \n",
    "                         kernel       params keys     descr\n",
    "                         ---------   ------------    -------\n",
    "                         linear       None           No parameters expected\n",
    "                         rbf          sigma          Kernel Coefficient\n",
    "                         poly         order          Order of the polynomial\n",
    "                         poly         coef0          independent cofficient in kernel function   \n",
    "      - max_iter       : Maximum number of iterations to run the algorithm      \n",
    "      - eps            : Value for convergence criterion for the norm of the gradient\n",
    "      - normalize      : Normalize the K gram matrix after evaluation\n",
    "      - cross_validate : Use cross validation if True, else fit the first lambda value passed\n",
    "      - verbose   : Print debugging information if true      \n",
    "    \n",
    "    Output:\n",
    "      - beta_vals      : Matrix of estimated beta's at each iteration,\n",
    "                         with the most recent values in the last row.    \n",
    "    '''\n",
    "    # Initialize list to store optimal betas for all classes\n",
    "    opt_betas = []\n",
    "    \n",
    "    # Number of classes to categorize assuming classes have values in [0,1,2,..n]\n",
    "    num_classes = np.max(y_trn) + 1\n",
    "    if verbose:\n",
    "        print('Number of classifiers to build: ', num_classes)\n",
    "\n",
    "    start_time = time.time()\n",
    "    \n",
    "    # For binary classification, only one classifier is required\n",
    "    if num_classes == 2:\n",
    "        num_classes = 1\n",
    "    \n",
    "    # Build classifier for each class\n",
    "    for i in range(num_classes):\n",
    "        if verbose:\n",
    "            print(\"Building classifier for class {}..\".format(i))\n",
    "        X_train = X_trn\n",
    "        y_train = np.array([1 if y_i == i else -1 for y_i in y_trn])\n",
    "        \n",
    "        if cross_validate:\n",
    "            # Perform K Fold cross validation to get optimal lambda\n",
    "            if verbose:\n",
    "                print(\"Running {}-fold cross validation..\".format(folds))\n",
    "                \n",
    "            lamb = train_svm_cv(X_train, y_train, lambs=lambs, folds=folds, kernel=kernel, \n",
    "                                params=params, max_iter=max_iter, eps=eps, verbose=verbose)\n",
    "            if verbose:\n",
    "                print(\"Optimal lambda for class {} is :{}\".format(i, lamb))\n",
    "                \n",
    "        else:\n",
    "            # Use the first element from input list as the lambda value\n",
    "            lamb = lambs[0]\n",
    "\n",
    "        # Fit the SVM on the full training data using the lambda derived above\n",
    "        opt_beta_vals = train_svm(X_train, y_train, lamb=lamb, kernel=kernel, params=params, max_iter=max_iter, eps=eps)\n",
    "        \n",
    "        # Append the optimal betas of last iteration for each classifier\n",
    "        opt_betas.append(opt_beta_vals[-1])\n",
    "        \n",
    "        if verbose:\n",
    "            time_elapsed = time.time() - start_time\n",
    "            print(\"Time elapsed (mins):\", time_elapsed/60)\n",
    "        \n",
    "    # Make final predictions\n",
    "    final_preds = predict_class(X_trn, X_tst, opt_betas, kernel=kernel, params=params) \n",
    "        \n",
    "    # Compute accuracy\n",
    "    accuracy = np.mean(final_preds == y_tst)\n",
    "        \n",
    "    if verbose:\n",
    "        print(\"Accuracy on test data using {} kernel with params {}: {}\".format(kernel, params, accuracy))\n",
    "            \n",
    "    return accuracy"
   ]
  },
  {
   "cell_type": "markdown",
   "metadata": {},
   "source": [
    "#### Testing on first two categories"
   ]
  },
  {
   "cell_type": "code",
   "execution_count": 437,
   "metadata": {},
   "outputs": [
    {
     "name": "stdout",
     "output_type": "stream",
     "text": [
      "Checking lambda:  0.0001\n",
      "Accuracy for lambda 0.0001 : 0.974074074074074\n",
      "Checking lambda:  0.001\n",
      "Accuracy for lambda 0.001 : 0.974074074074074\n",
      "Checking lambda:  0.01\n",
      "Accuracy for lambda 0.01 : 0.9703703703703703\n",
      "Checking lambda:  0.1\n",
      "Accuracy for lambda 0.1 : 0.9703703703703703\n",
      "Checking lambda:  1.0\n",
      "Accuracy for lambda 1.0 : 0.9703703703703703\n",
      "Checking lambda:  10.0\n",
      "Accuracy for lambda 10.0 : 0.9703703703703703\n",
      "Checking lambda:  100.0\n",
      "Accuracy for lambda 100.0 : 0.9703703703703703\n",
      "Total time elapsed (mins): 0.008212610085805257\n",
      "Optimal lambda: 0.0001\n",
      "Misclassification error on training set with lambda=0.0001: 0.007407407407407408\n",
      "Misclassification error on test set with lambda=0.0001: 0.06666666666666667\n"
     ]
    }
   ],
   "source": [
    "# Testing on first two categories\n",
    "lambs=[1e-4, 1e-3, 1e-2, 1e-1, 1e0, 1e1, 1e2]\n",
    "folds=3\n",
    "max_iter=500\n",
    "eps=1e-5\n",
    "params = {'order':7}\n",
    "kernel= 'poly'\n",
    "opt_lamb_cv = train_svm_cv( X_train, y_train, lambs=lambs, folds=folds, kernel=kernel, \n",
    "                            params=params, max_iter=max_iter, eps=eps, verbose=True)\n",
    "            \n",
    "print(\"Optimal lambda:\", opt_lamb_cv)\n",
    "\n",
    "lamb = opt_lamb_cv\n",
    "beta_vals = train_svm(X_train, y_train, lamb=lamb, kernel=kernel, params=params, max_iter=1000, eps=1e-5)\n",
    "train_err = misclassification_error(X_train, X_train, y_train, beta_vals[-1], kernel=kernel, params=params)\n",
    "test_err = misclassification_error(X_train, X_test, y_test, beta_vals[-1], kernel=kernel, params=params)\n",
    "\n",
    "print(\"Misclassification error on training set with lambda={}: {}\".format(lamb, train_err))\n",
    "print(\"Misclassification error on test set with lambda={}: {}\".format(lamb, test_err))"
   ]
  },
  {
   "cell_type": "markdown",
   "metadata": {},
   "source": [
    "### Multiclass SVM Testing"
   ]
  },
  {
   "cell_type": "markdown",
   "metadata": {},
   "source": [
    "#### Load the digits dataset"
   ]
  },
  {
   "cell_type": "code",
   "execution_count": 348,
   "metadata": {},
   "outputs": [
    {
     "name": "stdout",
     "output_type": "stream",
     "text": [
      "(1347, 64) (1347,) (450, 64) (450,)\n"
     ]
    }
   ],
   "source": [
    "X_train, y_train, X_test, y_test = load_digits_data()"
   ]
  },
  {
   "cell_type": "markdown",
   "metadata": {},
   "source": [
    "#### Polynomial with order 7"
   ]
  },
  {
   "cell_type": "code",
   "execution_count": 354,
   "metadata": {},
   "outputs": [
    {
     "name": "stdout",
     "output_type": "stream",
     "text": [
      "Number of classifiers to build:  10\n",
      "Building classifier for class 0..\n",
      "Running 3-fold cross validation..\n",
      "Checking lambda:  1e-07\n",
      "Accuracy for lambda 1e-07 : 0.9940608760207869\n",
      "Checking lambda:  1e-05\n",
      "Accuracy for lambda 1e-05 : 0.9948032665181885\n",
      "Checking lambda:  0.001\n",
      "Accuracy for lambda 0.001 : 0.9933184855233853\n",
      "Total time elapsed (mins): 1.594623597462972\n",
      "Optimal lambda for class 0 is :1e-05\n",
      "Time elapsed (mins): 2.094407300154368\n",
      "Building classifier for class 1..\n",
      "Running 3-fold cross validation..\n",
      "Checking lambda:  1e-07\n",
      "Accuracy for lambda 1e-07 : 0.9725315515961396\n",
      "Checking lambda:  1e-05\n",
      "Accuracy for lambda 1e-05 : 0.9710467706013364\n",
      "Checking lambda:  0.001\n",
      "Accuracy for lambda 0.001 : 0.9688195991091314\n",
      "Total time elapsed (mins): 1.6223305622736612\n",
      "Optimal lambda for class 1 is :1e-07\n",
      "Time elapsed (mins): 4.220375951131185\n",
      "Building classifier for class 2..\n",
      "Running 3-fold cross validation..\n",
      "Checking lambda:  1e-07\n",
      "Accuracy for lambda 1e-07 : 0.9769858945805495\n",
      "Checking lambda:  1e-05\n",
      "Accuracy for lambda 1e-05 : 0.9747587230883444\n",
      "Checking lambda:  0.001\n",
      "Accuracy for lambda 0.001 : 0.9717891610987378\n",
      "Total time elapsed (mins): 1.627746872107188\n",
      "Optimal lambda for class 2 is :1e-07\n",
      "Time elapsed (mins): 6.344530002276103\n",
      "Building classifier for class 3..\n",
      "Running 3-fold cross validation..\n",
      "Checking lambda:  1e-07\n",
      "Accuracy for lambda 1e-07 : 0.9814402375649592\n",
      "Checking lambda:  1e-05\n",
      "Accuracy for lambda 1e-05 : 0.9821826280623608\n",
      "Checking lambda:  0.001\n",
      "Accuracy for lambda 0.001 : 0.9784706755753527\n",
      "Total time elapsed (mins): 1.6645788669586181\n",
      "Optimal lambda for class 3 is :1e-05\n",
      "Time elapsed (mins): 8.507815392812093\n",
      "Building classifier for class 4..\n",
      "Running 3-fold cross validation..\n",
      "Checking lambda:  1e-07\n",
      "Accuracy for lambda 1e-07 : 0.9851521900519673\n",
      "Checking lambda:  1e-05\n",
      "Accuracy for lambda 1e-05 : 0.9851521900519673\n",
      "Checking lambda:  0.001\n",
      "Accuracy for lambda 0.001 : 0.9888641425389754\n",
      "Total time elapsed (mins): 1.617821709314982\n",
      "Optimal lambda for class 4 is :0.001\n",
      "Time elapsed (mins): 10.395348040262858\n",
      "Building classifier for class 5..\n",
      "Running 3-fold cross validation..\n",
      "Checking lambda:  1e-07\n",
      "Accuracy for lambda 1e-07 : 0.9829250185597624\n",
      "Checking lambda:  1e-05\n",
      "Accuracy for lambda 1e-05 : 0.9821826280623608\n",
      "Checking lambda:  0.001\n",
      "Accuracy for lambda 0.001 : 0.9799554565701559\n",
      "Total time elapsed (mins): 1.6859545667966207\n",
      "Optimal lambda for class 5 is :1e-07\n",
      "Time elapsed (mins): 12.685937805970509\n",
      "Building classifier for class 6..\n",
      "Running 3-fold cross validation..\n",
      "Checking lambda:  1e-07\n",
      "Accuracy for lambda 1e-07 : 0.9940608760207869\n",
      "Checking lambda:  1e-05\n",
      "Accuracy for lambda 1e-05 : 0.9933184855233853\n",
      "Checking lambda:  0.001\n",
      "Accuracy for lambda 0.001 : 0.9925760950259837\n",
      "Total time elapsed (mins): 1.6364851037661234\n",
      "Optimal lambda for class 6 is :1e-07\n",
      "Time elapsed (mins): 14.934761822223663\n",
      "Building classifier for class 7..\n",
      "Running 3-fold cross validation..\n",
      "Checking lambda:  1e-07\n",
      "Accuracy for lambda 1e-07 : 0.9806978470675576\n",
      "Checking lambda:  1e-05\n",
      "Accuracy for lambda 1e-05 : 0.9821826280623608\n",
      "Checking lambda:  0.001\n",
      "Accuracy for lambda 0.001 : 0.9814402375649592\n",
      "Total time elapsed (mins): 1.818003237247467\n",
      "Optimal lambda for class 7 is :1e-05\n",
      "Time elapsed (mins): 17.375113713741303\n",
      "Building classifier for class 8..\n",
      "Running 3-fold cross validation..\n",
      "Checking lambda:  1e-07\n",
      "Accuracy for lambda 1e-07 : 0.9703043801039346\n",
      "Checking lambda:  1e-05\n",
      "Accuracy for lambda 1e-05 : 0.9673348181143281\n",
      "Checking lambda:  0.001\n",
      "Accuracy for lambda 0.001 : 0.9658500371195249\n",
      "Total time elapsed (mins): 1.9174389084180197\n",
      "Optimal lambda for class 8 is :1e-07\n",
      "Time elapsed (mins): 19.814007051785786\n",
      "Building classifier for class 9..\n",
      "Running 3-fold cross validation..\n",
      "Checking lambda:  1e-07\n",
      "Accuracy for lambda 1e-07 : 0.9784706755753527\n",
      "Checking lambda:  1e-05\n",
      "Accuracy for lambda 1e-05 : 0.9784706755753526\n",
      "Checking lambda:  0.001\n",
      "Accuracy for lambda 0.001 : 0.9784706755753527\n",
      "Total time elapsed (mins): 1.8683964451154074\n",
      "Optimal lambda for class 9 is :1e-07\n",
      "Time elapsed (mins): 22.309373370806377\n",
      "Accuracy on test data using poly kernel with params {'order': 7}: 0.9288888888888889\n"
     ]
    },
    {
     "data": {
      "text/plain": [
       "0.9288888888888889"
      ]
     },
     "execution_count": 354,
     "metadata": {},
     "output_type": "execute_result"
    }
   ],
   "source": [
    "kernel='poly'\n",
    "params={'order':7}\n",
    "lambs = [1e-7, 1e-5, 1e-3]\n",
    "folds=3\n",
    "multiclass_svm(X_train, y_train, X_test, y_test, lambs=lambs, folds=3, kernel=kernel, params=params, \n",
    "                   max_iter=1000, eps=1e-5, cross_validate=True, verbose=True)"
   ]
  },
  {
   "cell_type": "code",
   "execution_count": 410,
   "metadata": {},
   "outputs": [
    {
     "name": "stdout",
     "output_type": "stream",
     "text": [
      "Accuracy of kernel poly with params {'order': 7} : 0.8844444444444445\n"
     ]
    }
   ],
   "source": [
    "kernel='poly'\n",
    "params={'order':7}\n",
    "lambs = [0.1]\n",
    "folds=3\n",
    "acc_poly_7 = multiclass_svm(X_train, y_train, X_test, y_test, lambs=lambs, folds=3, kernel=kernel, params=params, \n",
    "                            max_iter=1000, eps=1e-5, cross_validate=False, verbose=False)\n",
    "print('Accuracy of kernel {} with params {} : {}'.format(kernel, params, acc_poly_7))"
   ]
  },
  {
   "cell_type": "markdown",
   "metadata": {},
   "source": [
    "#### Polynomial kernel with order 5"
   ]
  },
  {
   "cell_type": "code",
   "execution_count": 409,
   "metadata": {},
   "outputs": [
    {
     "name": "stdout",
     "output_type": "stream",
     "text": [
      "Accuracy of kernel poly with params {'order': 5} : 0.8733333333333333\n"
     ]
    }
   ],
   "source": [
    "kernel='poly'\n",
    "params={'order':5}\n",
    "lambs = [0.1]\n",
    "folds=3\n",
    "acc_poly_5 = multiclass_svm(X_train, y_train, X_test, y_test, lambs=lambs, folds=3, kernel=kernel, params=params, \n",
    "                            max_iter=1000, eps=1e-5, cross_validate=False, verbose=False)\n",
    "print('Accuracy of kernel {} with params {} : {}'.format(kernel, params, acc_poly_5))"
   ]
  },
  {
   "cell_type": "markdown",
   "metadata": {},
   "source": [
    "#### Polynomial kernel with order 3"
   ]
  },
  {
   "cell_type": "code",
   "execution_count": 408,
   "metadata": {},
   "outputs": [
    {
     "name": "stdout",
     "output_type": "stream",
     "text": [
      "Accuracy of kernel poly with params {} : 0.8644444444444445\n"
     ]
    }
   ],
   "source": [
    "kernel='poly'\n",
    "params={}\n",
    "lambs = [0.1]\n",
    "folds=3\n",
    "acc_poly_3 = multiclass_svm(X_train, y_train, X_test, y_test, lambs=lambs, folds=3, kernel=kernel, params=params, \n",
    "                            max_iter=1000, eps=1e-5, cross_validate=False, verbose=False)\n",
    "print('Accuracy of kernel {} with params {} : {}'.format(kernel, params, acc_poly_3))"
   ]
  },
  {
   "cell_type": "markdown",
   "metadata": {},
   "source": [
    "#### RBF kernel with sigma = 0.5"
   ]
  },
  {
   "cell_type": "code",
   "execution_count": 407,
   "metadata": {},
   "outputs": [
    {
     "name": "stdout",
     "output_type": "stream",
     "text": [
      "Accuracy of kernel rbf with params {'sigma': 0.5} : 0.9711111111111111\n"
     ]
    }
   ],
   "source": [
    "kernel='rbf'\n",
    "params={'sigma':0.5}\n",
    "lambs = [0.1]\n",
    "folds=3\n",
    "acc_rbf_point5 = multiclass_svm(X_train, y_train, X_test, y_test, lambs=lambs, folds=3, kernel=kernel, params=params, \n",
    "                                 max_iter=1000, eps=1e-5, cross_validate=False, verbose=False)\n",
    "print('Accuracy of kernel {} with params {} : {}'.format(kernel, params, acc_rbf_point5))"
   ]
  },
  {
   "cell_type": "markdown",
   "metadata": {},
   "source": [
    "#### RBF kernel with sigma = 10"
   ]
  },
  {
   "cell_type": "code",
   "execution_count": 411,
   "metadata": {},
   "outputs": [
    {
     "name": "stdout",
     "output_type": "stream",
     "text": [
      "Accuracy of kernel rbf with params {'sigma': 10} : 0.08444444444444445\n"
     ]
    }
   ],
   "source": [
    "kernel='rbf'\n",
    "params={'sigma':10}\n",
    "lambs = [0.1]\n",
    "folds=3\n",
    "acc_rbf_10 = multiclass_svm(X_train, y_train, X_test, y_test, lambs=lambs, folds=3, kernel=kernel, params=params, \n",
    "                            max_iter=1000, eps=1e-5, cross_validate=False, verbose=False)\n",
    "print('Accuracy of kernel {} with params {} : {}'.format(kernel, params, acc_rbf_10))"
   ]
  },
  {
   "cell_type": "markdown",
   "metadata": {},
   "source": [
    "#### RBF kernel with sigma = 0.1"
   ]
  },
  {
   "cell_type": "code",
   "execution_count": 405,
   "metadata": {},
   "outputs": [
    {
     "name": "stdout",
     "output_type": "stream",
     "text": [
      "Accuracy of kernel rbf with params {'sigma': 0.1} : 0.6177777777777778\n"
     ]
    }
   ],
   "source": [
    "kernel='rbf'\n",
    "params={'sigma':0.1}\n",
    "lambs = [0.1]\n",
    "folds=3\n",
    "acc_rbf_point1 = multiclass_svm(X_train, y_train, X_test, y_test, lambs=lambs, folds=3, kernel=kernel, params=params, \n",
    "                   max_iter=1000, eps=1e-5, cross_validate=False, verbose=False)\n",
    "print('Accuracy of kernel {} with params {} : {}'.format(kernel, params, acc_rbf_point1))"
   ]
  },
  {
   "cell_type": "markdown",
   "metadata": {},
   "source": [
    "### Summarize results"
   ]
  },
  {
   "cell_type": "code",
   "execution_count": 412,
   "metadata": {},
   "outputs": [
    {
     "name": "stdout",
     "output_type": "stream",
     "text": [
      "Accuracy on test set with lambda 0.1:\n",
      "Polynomial kernel of order 7:  0.8844444444444445\n",
      "Polynomial kernel of order 5:  0.8733333333333333\n",
      "Polynomial kernel of order 3:  0.8644444444444445\n",
      "RBF kernel with sigma 0.1:  0.6177777777777778\n",
      "RBF kernel with sigma 0.5:  0.9711111111111111\n",
      "RBF kernel with sigma 10:  0.08444444444444445\n"
     ]
    }
   ],
   "source": [
    "print(\"Accuracy on test set with lambda 0.1:\")\n",
    "print(\"Polynomial kernel of order 7: \", acc_poly_7)\n",
    "print(\"Polynomial kernel of order 5: \", acc_poly_5)\n",
    "print(\"Polynomial kernel of order 3: \", acc_poly_3)\n",
    "print(\"RBF kernel with sigma 0.1: \", acc_rbf_point1)\n",
    "print(\"RBF kernel with sigma 0.5: \", acc_rbf_point5)\n",
    "print(\"RBF kernel with sigma 10: \", acc_rbf_10)"
   ]
  },
  {
   "cell_type": "markdown",
   "metadata": {},
   "source": [
    "### Demo using real world dataset"
   ]
  },
  {
   "cell_type": "markdown",
   "metadata": {},
   "source": [
    "#### RBF kernel demo with cross validation"
   ]
  },
  {
   "cell_type": "code",
   "execution_count": 448,
   "metadata": {},
   "outputs": [
    {
     "name": "stdout",
     "output_type": "stream",
     "text": [
      "X_train: (1347, 64), y_train: (1347,), X_test: (450, 64), y_test: (450,)\n",
      "Accuracy of kernel rbf with params {'sigma': 0.5} : 0.9711111111111111\n"
     ]
    }
   ],
   "source": [
    "# Set the parameters\n",
    "kernel='rbf'\n",
    "params={'sigma':0.5}\n",
    "lambs = [0.01, 0.1, 1]\n",
    "folds=3\n",
    "\n",
    "# Load the data\n",
    "X_train, y_train, X_test, y_test = load_digits_data()\n",
    "\n",
    "# Fit the model\n",
    "acc_rbf_point5 = multiclass_svm(X_train, y_train, X_test, y_test, lambs=lambs, folds=3, kernel=kernel, params=params, \n",
    "                                 max_iter=1000, eps=1e-5, cross_validate=True, verbose=False)\n",
    "\n",
    "# Print the accuracy\n",
    "print('Accuracy of kernel {} with params {} : {}'.format(kernel, params, acc_rbf_point5))"
   ]
  },
  {
   "cell_type": "code",
   "execution_count": 450,
   "metadata": {},
   "outputs": [
    {
     "name": "stdout",
     "output_type": "stream",
     "text": [
      "X_train: (1347, 64), y_train: (1347,), X_test: (450, 64), y_test: (450,)\n",
      "Number of classifiers to build:  10\n",
      "Building classifier for class 0..\n",
      "Time elapsed (mins): 0.4837121605873108\n",
      "Building classifier for class 1..\n",
      "Time elapsed (mins): 0.9867316603660583\n",
      "Building classifier for class 2..\n",
      "Time elapsed (mins): 1.4877743601799012\n",
      "Building classifier for class 3..\n",
      "Time elapsed (mins): 2.0339226841926576\n",
      "Building classifier for class 4..\n",
      "Time elapsed (mins): 2.5549331744511923\n",
      "Building classifier for class 5..\n",
      "Time elapsed (mins): 3.109623344739278\n",
      "Building classifier for class 6..\n",
      "Time elapsed (mins): 3.740222656726837\n",
      "Building classifier for class 7..\n",
      "Time elapsed (mins): 4.396908362706502\n",
      "Building classifier for class 8..\n",
      "Time elapsed (mins): 4.895678865909576\n",
      "Building classifier for class 9..\n",
      "Time elapsed (mins): 5.393012281258901\n",
      "Accuracy on test data using poly kernel with params {'order': 7}: 0.9222222222222223\n",
      "Accuracy of kernel poly with params {'order': 7} : 0.9222222222222223\n"
     ]
    }
   ],
   "source": [
    "# Set the parameters\n",
    "kernel='poly'\n",
    "params={'order':7}\n",
    "lambs = [1e-5]\n",
    "folds=3\n",
    "\n",
    "# Load the data\n",
    "X_train, y_train, X_test, y_test = load_digits_data()\n",
    "\n",
    "# Fit the model\n",
    "acc_poly_7 = multiclass_svm(X_train, y_train, X_test, y_test, lambs=lambs, folds=3, kernel=kernel, params=params, \n",
    "                                 max_iter=1000, eps=1e-5, cross_validate=False, verbose=True)\n",
    "\n",
    "# Print the accuracy\n",
    "print('Accuracy of kernel {} with params {} : {}'.format(kernel, params, acc_poly_7))"
   ]
  },
  {
   "cell_type": "markdown",
   "metadata": {},
   "source": [
    "### Demo on simulated dataset"
   ]
  },
  {
   "cell_type": "code",
   "execution_count": 520,
   "metadata": {},
   "outputs": [],
   "source": [
    "def load_simulated_data(n=1000, a=10, b=5):\n",
    "\n",
    "    X = np.vstack((np.random.uniform(size=n), np.random.uniform(size=n))).T\n",
    "    t = X[:,1] - np.sin(a*X[:,0])\n",
    "    prob = 1/(1+np.exp(-b*t))\n",
    "    Y = np.random.binomial(n=1, p=prob, size=n)\n",
    "    \n",
    "    # Visualize\n",
    "    plt.scatter(X[:,0], X[:,1], c=['red' if y == 1 else 'blue' for y in Y])\n",
    "    \n",
    "    return split_standardize(X, Y)"
   ]
  },
  {
   "cell_type": "code",
   "execution_count": 523,
   "metadata": {},
   "outputs": [
    {
     "name": "stdout",
     "output_type": "stream",
     "text": [
      "X_train: (750, 2), y_train: (750,), X_test: (250, 2), y_test: (250,)\n",
      "Accuracy of kernel rbf with params {'sigma': 0.5} : 0.416\n"
     ]
    },
    {
     "data": {
      "image/png": "[encoded data removed]",
      "text/plain": [
       "<Figure size 432x288 with 1 Axes>"
      ]
     },
     "metadata": {},
     "output_type": "display_data"
    }
   ],
   "source": [
    "# Set the parameters\n",
    "kernel='rbf'\n",
    "params={'sigma':0.5}\n",
    "lambs = [0.01, 0.1, 1]\n",
    "folds=3\n",
    "\n",
    "# Load the data\n",
    "X_train, y_train, X_test, y_test = load_simulated_data(n=1000)\n",
    "\n",
    "# Fit the model\n",
    "acc_rbf_point5 = multiclass_svm(X_train, y_train, X_test, y_test, lambs=lambs, folds=3, kernel=kernel, params=params, \n",
    "                                 max_iter=1000, eps=1e-5, cross_validate=False, verbose=False)\n",
    "\n",
    "# Print the accuracy\n",
    "print('Accuracy of kernel {} with params {} : {}'.format(kernel, params, acc_rbf_point5))"
   ]
  },
  {
   "cell_type": "code",
   "execution_count": 532,
   "metadata": {},
   "outputs": [
    {
     "name": "stdout",
     "output_type": "stream",
     "text": [
      "X_train: (750, 2), y_train: (750,), X_test: (250, 2), y_test: (250,)\n",
      "Accuracy of kernel poly with params {'order': 7} : 0.44\n"
     ]
    },
    {
     "data": {
      "image/png": "[encoded data removed]",
      "text/plain": [
       "<Figure size 432x288 with 1 Axes>"
      ]
     },
     "metadata": {},
     "output_type": "display_data"
    }
   ],
   "source": [
    "# Set the parameters\n",
    "kernel='poly'\n",
    "params={'order':7}\n",
    "lambs = [1e-3]\n",
    "folds=3\n",
    "\n",
    "# Load the data\n",
    "X_train, y_train, X_test, y_test = load_simulated_data(n=1000)\n",
    "\n",
    "# Fit the model\n",
    "acc_poly_7 = multiclass_svm(X_train, y_train, X_test, y_test, lambs=lambs, folds=3, kernel=kernel, params=params, \n",
    "                                 max_iter=1000, eps=1e-5, cross_validate=False, verbose=False)\n",
    "\n",
    "# Print the accuracy\n",
    "print('Accuracy of kernel {} with params {} : {}'.format(kernel, params, acc_poly_7))"
   ]
  },
  {
   "cell_type": "code",
   "execution_count": 529,
   "metadata": {},
   "outputs": [],
   "source": [
    "from sklearn.svm import SVC"
   ]
  },
  {
   "cell_type": "code",
   "execution_count": 544,
   "metadata": {},
   "outputs": [
    {
     "name": "stdout",
     "output_type": "stream",
     "text": [
      "0.6\n"
     ]
    }
   ],
   "source": [
    "svm = SVC(kernel='poly', degree=7, C=1/(n*lambs[0])).fit(X_train, y_train)\n",
    "print(svm.score(X_test, y_test))"
   ]
  },
  {
   "cell_type": "code",
   "execution_count": 536,
   "metadata": {},
   "outputs": [
    {
     "name": "stdout",
     "output_type": "stream",
     "text": [
      "0.816\n"
     ]
    }
   ],
   "source": [
    "sigma = 0.5\n",
    "svm = SVC(kernel='rbf', gamma=1/(2*sigma**2)).fit(X_train, y_train)\n",
    "print(svm.score(X_test, y_test))"
   ]
  },
  {
   "cell_type": "markdown",
   "metadata": {},
   "source": [
    "### Compare performance to Sklearn"
   ]
  },
  {
   "cell_type": "code",
   "execution_count": 546,
   "metadata": {},
   "outputs": [
    {
     "name": "stdout",
     "output_type": "stream",
     "text": [
      "X_train: (750, 2), y_train: (750,), X_test: (250, 2), y_test: (250,)\n",
      "Algorithm accuracy with kernel poly of degree7 and lambda 0.001 : 0.36\n",
      "Skearn SVC accuracy of kernel poly of degree 7 and params 0.001 : 0.668\n"
     ]
    },
    {
     "data": {
      "image/png": "[encoded data removed]",
      "text/plain": [
       "<Figure size 432x288 with 1 Axes>"
      ]
     },
     "metadata": {},
     "output_type": "display_data"
    }
   ],
   "source": [
    "# Set the parameters\n",
    "kernel='poly'\n",
    "degree = 7\n",
    "params={'order':degree}\n",
    "lambs = [1e-3]\n",
    "C = 1/(n*lambs[0])\n",
    "folds=3\n",
    "\n",
    "# Load the data\n",
    "X_train, y_train, X_test, y_test = load_simulated_data(n=1000)\n",
    "\n",
    "# Fit the model\n",
    "acc_poly_7 = multiclass_svm(X_train, y_train, X_test, y_test, lambs=lambs, folds=3, kernel=kernel, params=params, \n",
    "                                 max_iter=1000, eps=1e-5, cross_validate=False, verbose=False)\n",
    "\n",
    "# Print the accuracy\n",
    "print('Algorithm accuracy with kernel {} of degree{} and lambda {} : {}'.format(kernel, degree, lambs[0], acc_poly_7))\n",
    "\n",
    "svm = SVC(kernel=kernel, degree=degree, C=1/(n*lambs[0])).fit(X_train, y_train)\n",
    "acc_sk = svm.score(X_test, y_test)\n",
    "print('Skearn SVC accuracy of kernel {} of degree {} and params {} : {}'.format(kernel, degree, lambs[0], acc_sk))\n"
   ]
  },
  {
   "cell_type": "code",
   "execution_count": null,
   "metadata": {},
   "outputs": [],
   "source": []
  }
 ],
 "metadata": {
  "kernelspec": {
   "display_name": "Python 3",
   "language": "python",
   "name": "python3"
  },
  "language_info": {
   "codemirror_mode": {
    "name": "ipython",
    "version": 3
   },
   "file_extension": ".py",
   "mimetype": "text/x-python",
   "name": "python",
   "nbconvert_exporter": "python",
   "pygments_lexer": "ipython3",
   "version": "3.6.4"
  }
 },
 "nbformat": 4,
 "nbformat_minor": 2
}
